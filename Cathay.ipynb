{
  "nbformat": 4,
  "nbformat_minor": 0,
  "metadata": {
    "colab": {
      "name": "Cathay.ipynb",
      "provenance": [],
      "authorship_tag": "ABX9TyNvcEu+fgvY4eNECNv8dbuh",
      "include_colab_link": true
    },
    "kernelspec": {
      "name": "python3",
      "display_name": "Python 3"
    },
    "language_info": {
      "name": "python"
    }
  },
  "cells": [
    {
      "cell_type": "markdown",
      "metadata": {
        "id": "view-in-github",
        "colab_type": "text"
      },
      "source": [
        "<a href=\"https://colab.research.google.com/github/efg5432/Cathay/blob/main/Cathay.ipynb\" target=\"_parent\"><img src=\"https://colab.research.google.com/assets/colab-badge.svg\" alt=\"Open In Colab\"/></a>"
      ]
    },
    {
      "cell_type": "code",
      "metadata": {
        "id": "esnuEYO6FqTD"
      },
      "source": [
        "import os \n",
        "import pandas as pd\n",
        "import re"
      ],
      "execution_count": null,
      "outputs": []
    },
    {
      "cell_type": "code",
      "metadata": {
        "id": "g752cJ3H0mYl"
      },
      "source": [
        "class DataframeAll:\n",
        "    def __init__(self, path):\n",
        "      self.path = path\n",
        "    \n",
        "    def createDf(self, filePath, year, quarter):\n",
        "      baseName = os.path.basename(filePath)\n",
        "      fileName = os.path.splitext(baseName)[0]\n",
        "      dataframe = pd.read_csv(filePath, header=1)\n",
        "      county = fileName.split('_')[0]\n",
        "      dataType = fileName.split('_')[-1]\n",
        "      dataframe['df_name'] = f'{year}_{quarter}_{county}_{dataType}'\n",
        "      return dataframe\n",
        "    \n",
        "    def readAllData(self):\n",
        "      LandRegex = re.compile(r'\\w_lvr_land_\\w')\n",
        "      df_list = list()\n",
        "      for j in os.listdir(os.path.join(self.path,'Data')):\n",
        "        for i in os.listdir(os.path.join(self.path,'Data', j)):\n",
        "          if len(i) == 5:\n",
        "            year = i[:3]\n",
        "            quarter = i[-1]\n",
        "          if len(LandRegex.findall(i)) != 0:\n",
        "            df_list.append(self.createDf(os.path.join(self.path,'Data', j, i), year, quarter))\n",
        "      return pd.concat(df_list)\n"
      ],
      "execution_count": null,
      "outputs": []
    },
    {
      "cell_type": "code",
      "metadata": {
        "id": "RU7OLlbo4sse"
      },
      "source": [
        "class Filter:\n",
        "    def __init__(self, df):\n",
        "        self.df = df\n",
        "        self.df['berth'] = self.df['transaction pen number'].apply(self.parkingNum)\n",
        "        self.df['floorNum'] = self.df['total floor number'].apply(self.cn2num)\n",
        "\n",
        "    def getDataframe(self):\n",
        "      return self.df\n",
        "\n",
        "    def getFilter(self):\n",
        "        return self.df[(self.df['main use'] == '住家用') & (self.df['floorNum'] >= 13) & (self.df['building state'] == '住宅大樓(11層含以上有電梯)')]\n",
        "    \n",
        "    def saveFilterToCsv(self, path):\n",
        "      self.getFilter().to_csv(os.path.join(path, 'Output', 'filter.csv'))\n",
        "\n",
        "    def parkingNum(self, transactionPenNumber):\n",
        "      return int(re.findall(r'[0-9]+', transactionPenNumber)[-1])\n",
        "    \n",
        "    def cn2num(self, floorNum):\n",
        "      digit = {'一': 1, '二': 2, '三': 3, '四': 4, '五': 5, '六': 6, '七': 7, '八': 8, '九': 9}\n",
        "      # print(floorNum)\n",
        "      if isinstance(floorNum, float):\n",
        "        # print(floorNum)\n",
        "        return None\n",
        "      if isinstance(floorNum, int):\n",
        "        return floorNum\n",
        "      floorNum = floorNum[:-1]\n",
        "      idx_s = floorNum.find('十')\n",
        "      if idx_s != -1:\n",
        "        return  digit.get(floorNum[idx_s - 1:idx_s], 1)*10 + digit.get(floorNum[-1], 0)\n",
        "      return digit.get(floorNum[-1], 0)"
      ],
      "execution_count": null,
      "outputs": []
    },
    {
      "cell_type": "code",
      "metadata": {
        "id": "FXSm6f0f4zoP"
      },
      "source": [
        "class Count:\n",
        "    def __init__(self, df):\n",
        "        self.df = df\n",
        "    \n",
        "    def getTotalNumber(self):\n",
        "      return self.df.shape[0]\n",
        "    \n",
        "    def getTotalBerth(self):\n",
        "      return self.df['berth'].sum()\n",
        "    \n",
        "    def getMeanPrice(self):\n",
        "      return self.df['total price NTD'].mean()\n",
        "    \n",
        "    def getTotalBerthPrice(self):\n",
        "      return self.df['the berth total price NTD'].sum()\n",
        "    \n",
        "    def getMeanBerthPrice(self):\n",
        "      return self.getTotalBerthPrice()/self.getTotalBerth()\n",
        "    \n",
        "    def getSummary(self):\n",
        "      summary = {\"總件數\": self.getTotalNumber(), \"總車位數\": self.getTotalBerth(), \"平均總價元\": self.getMeanPrice(), \"平均車位總價元\": self.getMeanBerthPrice()}\n",
        "      return pd.DataFrame(list(summary.items()), columns = ['統計', '值'])\n",
        "\n",
        "    def saveSummaryToCsv(self, path):\n",
        "      self.getSummary().to_csv(os.path.join(path, 'Output', 'count.csv'))\n"
      ],
      "execution_count": null,
      "outputs": []
    },
    {
      "cell_type": "code",
      "metadata": {
        "colab": {
          "base_uri": "https://localhost:8080/"
        },
        "id": "GaAOohDVymV1",
        "outputId": "64daed03-1cd1-4aa5-9aa1-6a12e304509f"
      },
      "source": [
        "from google.colab import drive\n",
        "drive.mount('/content/gdrive')"
      ],
      "execution_count": null,
      "outputs": [
        {
          "output_type": "stream",
          "name": "stdout",
          "text": [
            "Mounted at /content/gdrive\n"
          ]
        }
      ]
    },
    {
      "cell_type": "code",
      "metadata": {
        "colab": {
          "base_uri": "https://localhost:8080/"
        },
        "id": "dg70Qtea1knv",
        "outputId": "ecc0927f-4cdf-4789-dc47-03df106531cb"
      },
      "source": [
        "path = 'gdrive/My Drive/Cathay'\n",
        "data = DataframeAll(path)\n",
        "df_all = data.readAllData()\n",
        "filter = Filter(df_all)\n",
        "df_filter = filter.getFilter()\n",
        "filter.saveFilterToCsv(path)\n",
        "count = Count(df_filter)\n",
        "print(count.getSummary())\n",
        "count.saveSummaryToCsv(path)"
      ],
      "execution_count": null,
      "outputs": [
        {
          "output_type": "stream",
          "name": "stdout",
          "text": [
            "        統計             值\n",
            "0      總件數  6.961200e+04\n",
            "1     總車位數  5.767200e+04\n",
            "2    平均總價元  1.475090e+07\n",
            "3  平均車位總價元  9.232892e+05\n"
          ]
        }
      ]
    },
    {
      "cell_type": "code",
      "metadata": {
        "id": "5w5HAl5rzFF1"
      },
      "source": [
        ""
      ],
      "execution_count": null,
      "outputs": []
    }
  ]
}